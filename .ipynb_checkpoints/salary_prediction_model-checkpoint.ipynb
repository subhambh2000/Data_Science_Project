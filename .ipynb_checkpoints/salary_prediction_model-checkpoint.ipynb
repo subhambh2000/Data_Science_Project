{
 "cells": [
  {
   "cell_type": "markdown",
   "id": "a16944e0",
   "metadata": {},
   "source": [
    "# Predicting the salary of a position of a data science job"
   ]
  },
  {
   "cell_type": "code",
   "execution_count": 1,
   "id": "bc8bd314",
   "metadata": {
    "ExecuteTime": {
     "end_time": "2021-08-30T13:52:40.424552Z",
     "start_time": "2021-08-30T13:52:39.243093Z"
    }
   },
   "outputs": [],
   "source": [
    "# Import Statements\n",
    "import pandas as pd\n",
    "import numpy as np\n",
    "import matplotlib as plt"
   ]
  },
  {
   "cell_type": "markdown",
   "id": "0715f01d",
   "metadata": {},
   "source": [
    "## Dataset"
   ]
  },
  {
   "cell_type": "code",
   "execution_count": 5,
   "id": "0126125a",
   "metadata": {
    "ExecuteTime": {
     "end_time": "2021-08-30T13:59:28.951866Z",
     "start_time": "2021-08-30T13:59:28.883578Z"
    }
   },
   "outputs": [],
   "source": [
    "dataset = pd.read_csv('glassdoor_jobs.csv')"
   ]
  },
  {
   "cell_type": "markdown",
   "id": "5f39c79d",
   "metadata": {},
   "source": [
    "## Data Cleaning"
   ]
  },
  {
   "cell_type": "code",
   "execution_count": 11,
   "id": "e88487b2",
   "metadata": {
    "ExecuteTime": {
     "end_time": "2021-08-30T14:42:54.699628Z",
     "start_time": "2021-08-30T14:42:54.680454Z"
    }
   },
   "outputs": [],
   "source": [
    "# Removing the rows with negative salaries\n",
    "dataset = dataset[dataset['Salary Estimate'] != '-1']"
   ]
  },
  {
   "cell_type": "code",
   "execution_count": 16,
   "id": "f1ad01dd",
   "metadata": {
    "ExecuteTime": {
     "end_time": "2021-08-30T14:49:49.739437Z",
     "start_time": "2021-08-30T14:49:49.719632Z"
    }
   },
   "outputs": [],
   "source": [
    "dataset['hourly'] = dataset['Salary Estimate'].apply(lambda x: 1 if 'per hour' in x.lower() else 0)\n",
    "dataset['emp_provided'] = dataset['Salary Estimate'].apply(\n",
    "    lambda x: 1 if 'employer provided salary:' in x.lower() else 0)"
   ]
  },
  {
   "cell_type": "code",
   "execution_count": 12,
   "id": "07111575",
   "metadata": {
    "ExecuteTime": {
     "end_time": "2021-08-30T14:45:14.262427Z",
     "start_time": "2021-08-30T14:45:14.249442Z"
    }
   },
   "outputs": [],
   "source": [
    "# Salary parsing\n",
    "salary = dataset['Salary Estimate'].apply(lambda x: x.split('(')[0])"
   ]
  },
  {
   "cell_type": "code",
   "execution_count": 14,
   "id": "19060a59",
   "metadata": {
    "ExecuteTime": {
     "end_time": "2021-08-30T14:47:45.431861Z",
     "start_time": "2021-08-30T14:47:45.418644Z"
    }
   },
   "outputs": [],
   "source": [
    "temp = salary.apply(lambda x: x.replace('K','').replace('$',''))"
   ]
  },
  {
   "cell_type": "code",
   "execution_count": 20,
   "id": "5ba4b58c",
   "metadata": {
    "ExecuteTime": {
     "end_time": "2021-08-30T14:54:00.404393Z",
     "start_time": "2021-08-30T14:54:00.384247Z"
    }
   },
   "outputs": [],
   "source": [
    "minus_hr = temp.apply(lambda x: x.lower().replace('per hour',''))"
   ]
  },
  {
   "cell_type": "code",
   "execution_count": 22,
   "id": "d079cdf0",
   "metadata": {
    "ExecuteTime": {
     "end_time": "2021-08-30T14:54:51.842187Z",
     "start_time": "2021-08-30T14:54:51.833210Z"
    }
   },
   "outputs": [],
   "source": [
    "minus_emp_prov = minus_hr.apply(lambda x: x.lower().replace('employer provided salary:',''))"
   ]
  },
  {
   "cell_type": "code",
   "execution_count": null,
   "id": "49996fa0",
   "metadata": {},
   "outputs": [],
   "source": []
  }
 ],
 "metadata": {
  "kernelspec": {
   "display_name": "Python 3",
   "language": "python",
   "name": "python3"
  },
  "language_info": {
   "codemirror_mode": {
    "name": "ipython",
    "version": 3
   },
   "file_extension": ".py",
   "mimetype": "text/x-python",
   "name": "python",
   "nbconvert_exporter": "python",
   "pygments_lexer": "ipython3",
   "version": "3.7.11"
  },
  "toc": {
   "base_numbering": 1,
   "nav_menu": {},
   "number_sections": true,
   "sideBar": true,
   "skip_h1_title": false,
   "title_cell": "Table of Contents",
   "title_sidebar": "Contents",
   "toc_cell": false,
   "toc_position": {},
   "toc_section_display": true,
   "toc_window_display": false
  }
 },
 "nbformat": 4,
 "nbformat_minor": 5
}
