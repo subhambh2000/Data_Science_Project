{
 "cells": [
  {
   "cell_type": "markdown",
   "id": "a16944e0",
   "metadata": {},
   "source": [
    "# Predicting the salary of a position of a data science job"
   ]
  },
  {
   "cell_type": "code",
   "execution_count": 1,
   "id": "bc8bd314",
   "metadata": {
    "ExecuteTime": {
     "end_time": "2021-08-30T16:44:25.385322Z",
     "start_time": "2021-08-30T16:44:24.784509Z"
    }
   },
   "outputs": [],
   "source": [
    "# Import Statements\n",
    "import pandas as pd\n",
    "import numpy as np\n",
    "import matplotlib as plt\n",
    "\n",
    "import warnings\n",
    "warnings.filterwarnings(action = 'ignore')"
   ]
  },
  {
   "cell_type": "markdown",
   "id": "0715f01d",
   "metadata": {},
   "source": [
    "## Dataset"
   ]
  },
  {
   "cell_type": "code",
   "execution_count": 2,
   "id": "0126125a",
   "metadata": {
    "ExecuteTime": {
     "end_time": "2021-08-30T16:44:30.678413Z",
     "start_time": "2021-08-30T16:44:30.615253Z"
    }
   },
   "outputs": [],
   "source": [
    "dataset = pd.read_csv('glassdoor_jobs.csv')"
   ]
  },
  {
   "cell_type": "markdown",
   "id": "5f39c79d",
   "metadata": {},
   "source": [
    "## Data Cleaning"
   ]
  },
  {
   "cell_type": "code",
   "execution_count": 3,
   "id": "e88487b2",
   "metadata": {
    "ExecuteTime": {
     "end_time": "2021-08-30T16:44:32.463735Z",
     "start_time": "2021-08-30T16:44:32.445722Z"
    }
   },
   "outputs": [],
   "source": [
    "# Removing the rows with negative salaries\n",
    "dataset = dataset[dataset['Salary Estimate'] != '-1']"
   ]
  },
  {
   "cell_type": "code",
   "execution_count": 4,
   "id": "f1ad01dd",
   "metadata": {
    "ExecuteTime": {
     "end_time": "2021-08-30T16:44:32.875347Z",
     "start_time": "2021-08-30T16:44:32.860348Z"
    }
   },
   "outputs": [],
   "source": [
    "# Salary parsing\n",
    "dataset['hourly'] = dataset['Salary Estimate'].apply(lambda x: 1 if 'per hour' in x.lower() else 0)\n",
    "dataset['emp_provided'] = dataset['Salary Estimate'].apply(\n",
    "    lambda x: 1 if 'employer provided salary:' in x.lower() else 0)"
   ]
  },
  {
   "cell_type": "code",
   "execution_count": 5,
   "id": "07111575",
   "metadata": {
    "ExecuteTime": {
     "end_time": "2021-08-30T16:44:33.409633Z",
     "start_time": "2021-08-30T16:44:33.400632Z"
    }
   },
   "outputs": [],
   "source": [
    "salary = dataset['Salary Estimate'].apply(lambda x: x.split('(')[0])"
   ]
  },
  {
   "cell_type": "code",
   "execution_count": 6,
   "id": "19060a59",
   "metadata": {
    "ExecuteTime": {
     "end_time": "2021-08-30T16:44:34.027947Z",
     "start_time": "2021-08-30T16:44:34.013943Z"
    }
   },
   "outputs": [],
   "source": [
    "temp = salary.apply(lambda x: x.replace('K','').replace('$',''))\n",
    "minus_hr = temp.apply(lambda x: x.lower().replace('per hour',''))\n",
    "minus_emp_prov = minus_hr.apply(lambda x: x.lower().replace('employer provided salary:',''))"
   ]
  },
  {
   "cell_type": "code",
   "execution_count": 7,
   "id": "49996fa0",
   "metadata": {
    "ExecuteTime": {
     "end_time": "2021-08-30T16:44:34.601151Z",
     "start_time": "2021-08-30T16:44:34.584178Z"
    }
   },
   "outputs": [],
   "source": [
    "dataset['min_salary'] = minus_emp_prov.apply(lambda x: int(x.split('-')[0]))\n",
    "dataset['max_salary'] = minus_emp_prov.apply(lambda x: int(x.split('-')[1]))"
   ]
  },
  {
   "cell_type": "code",
   "execution_count": 8,
   "id": "de7039a5",
   "metadata": {
    "ExecuteTime": {
     "end_time": "2021-08-30T16:44:35.135970Z",
     "start_time": "2021-08-30T16:44:35.124890Z"
    }
   },
   "outputs": [],
   "source": [
    "dataset['average_salary'] = (dataset.min_salary+dataset.max_salary)/2"
   ]
  },
  {
   "cell_type": "code",
   "execution_count": 9,
   "id": "ab567187",
   "metadata": {
    "ExecuteTime": {
     "end_time": "2021-08-30T16:44:35.597590Z",
     "start_time": "2021-08-30T16:44:35.565564Z"
    }
   },
   "outputs": [],
   "source": [
    "# Company Name\n",
    "dataset['company_txt'] = dataset.apply(\n",
    "    lambda x: x['Company Name'] if x['Rating'] < 0 else x['Company Name'][:-3], axis=1)"
   ]
  },
  {
   "cell_type": "code",
   "execution_count": 10,
   "id": "bb343738",
   "metadata": {
    "ExecuteTime": {
     "end_time": "2021-08-30T16:44:35.961738Z",
     "start_time": "2021-08-30T16:44:35.947728Z"
    }
   },
   "outputs": [],
   "source": [
    "# State field\n",
    "dataset['job_state'] = dataset['Location'].apply(lambda x: x.split(',')[1])"
   ]
  },
  {
   "cell_type": "code",
   "execution_count": 11,
   "id": "eb8a6a75",
   "metadata": {
    "ExecuteTime": {
     "end_time": "2021-08-30T16:44:36.408316Z",
     "start_time": "2021-08-30T16:44:36.374195Z"
    }
   },
   "outputs": [],
   "source": [
    "dataset['same_state'] = dataset.apply(lambda x: 1 if x.Location == x.Headquarters else 0,axis=1)"
   ]
  },
  {
   "cell_type": "code",
   "execution_count": 12,
   "id": "56e00898",
   "metadata": {
    "ExecuteTime": {
     "end_time": "2021-08-30T16:44:36.908490Z",
     "start_time": "2021-08-30T16:44:36.897491Z"
    }
   },
   "outputs": [],
   "source": [
    "dataset['age'] = dataset.Founded.apply(lambda x: x if x<1 else 2021-x)"
   ]
  },
  {
   "cell_type": "code",
   "execution_count": 13,
   "id": "23aa3e79",
   "metadata": {
    "ExecuteTime": {
     "end_time": "2021-08-30T16:44:37.548294Z",
     "start_time": "2021-08-30T16:44:37.451294Z"
    }
   },
   "outputs": [],
   "source": [
    "# Parsing the job descriptions\n",
    "dataset['python'] = dataset['Job Description'].apply(\n",
    "    lambda x: 1 if 'python' in x.lower() else 0)\n",
    "dataset['r_lang'] = dataset['Job Description'].apply(\n",
    "    lambda x: 1 if 'r studio' in x.lower() or 'r-studio' in x.lower() else 0)\n",
    "dataset['spark'] = dataset['Job Description'].apply(\n",
    "    lambda x: 1 if 'spark' in x.lower() else 0)\n",
    "dataset['aws'] = dataset['Job Description'].apply(\n",
    "    lambda x: 1 if 'aws' in x.lower() else 0)\n",
    "dataset['excel'] = dataset['Job Description'].apply(\n",
    "    lambda x: 1 if 'excel' in x.lower() else 0)"
   ]
  },
  {
   "cell_type": "code",
   "execution_count": 15,
   "id": "947275ed",
   "metadata": {
    "ExecuteTime": {
     "end_time": "2021-08-30T16:46:03.289633Z",
     "start_time": "2021-08-30T16:46:03.274608Z"
    }
   },
   "outputs": [],
   "source": [
    "dataset.drop(['Unnamed: 0'],axis=1,inplace=True)"
   ]
  },
  {
   "cell_type": "code",
   "execution_count": 17,
   "id": "3ed9e7cd",
   "metadata": {
    "ExecuteTime": {
     "end_time": "2021-08-30T16:47:12.137360Z",
     "start_time": "2021-08-30T16:47:12.052716Z"
    }
   },
   "outputs": [],
   "source": [
    "dataset.to_csv('salary_data_cleaned.csv',index=False)"
   ]
  },
  {
   "cell_type": "code",
   "execution_count": null,
   "id": "1c85a8ac",
   "metadata": {},
   "outputs": [],
   "source": []
  }
 ],
 "metadata": {
  "kernelspec": {
   "display_name": "Python 3",
   "language": "python",
   "name": "python3"
  },
  "language_info": {
   "codemirror_mode": {
    "name": "ipython",
    "version": 3
   },
   "file_extension": ".py",
   "mimetype": "text/x-python",
   "name": "python",
   "nbconvert_exporter": "python",
   "pygments_lexer": "ipython3",
   "version": "3.7.11"
  },
  "toc": {
   "base_numbering": 1,
   "nav_menu": {},
   "number_sections": true,
   "sideBar": true,
   "skip_h1_title": false,
   "title_cell": "Table of Contents",
   "title_sidebar": "Contents",
   "toc_cell": false,
   "toc_position": {},
   "toc_section_display": true,
   "toc_window_display": false
  }
 },
 "nbformat": 4,
 "nbformat_minor": 5
}
