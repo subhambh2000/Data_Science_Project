{
 "cells": [
  {
   "cell_type": "markdown",
   "id": "7a965b14",
   "metadata": {},
   "source": [
    "# Exploratory Data Analysis "
   ]
  },
  {
   "cell_type": "code",
   "execution_count": 3,
   "id": "50166ae3",
   "metadata": {
    "ExecuteTime": {
     "end_time": "2021-08-31T16:06:29.851957Z",
     "start_time": "2021-08-31T16:06:28.470248Z"
    }
   },
   "outputs": [],
   "source": [
    "# Import Statements\n",
    "import pandas as pd\n",
    "import numpy as np\n",
    "import matplotlib as plt\n",
    "import seaborn as sns\n",
    "\n",
    "import warnings\n",
    "warnings.filterwarnings(action = 'ignore')"
   ]
  },
  {
   "cell_type": "code",
   "execution_count": 4,
   "id": "08fa1b8e",
   "metadata": {
    "ExecuteTime": {
     "end_time": "2021-08-31T16:06:29.916064Z",
     "start_time": "2021-08-31T16:06:29.853953Z"
    }
   },
   "outputs": [],
   "source": [
    "data = pd.read_csv('salary_data_cleaned.csv')"
   ]
  },
  {
   "cell_type": "code",
   "execution_count": 5,
   "id": "4ae17197",
   "metadata": {
    "ExecuteTime": {
     "end_time": "2021-08-31T16:06:29.931631Z",
     "start_time": "2021-08-31T16:06:29.918585Z"
    },
    "code_folding": []
   },
   "outputs": [],
   "source": [
    "def title_simplifier(title):\n",
    "    if 'data scientist' in title.lower():\n",
    "        return 'data scientist'\n",
    "    elif 'data engineer' in title.lower():\n",
    "        return 'data scientist'\n",
    "    elif 'analyst' in title.lower():\n",
    "        return 'analyst'\n",
    "    elif 'machine learning' in title.lower():\n",
    "        return 'mle'\n",
    "    elif 'manager' in title.lower():\n",
    "        return 'manager'\n",
    "    elif 'director' in title.lower():\n",
    "        return 'director'\n",
    "    else:\n",
    "        return 'na'\n",
    "\n",
    "\n",
    "def seniority(title):\n",
    "    if 'sr' in title.lower() or 'senior' in title.lower() or 'lead' in title.lower() or 'principle' in title.lower():\n",
    "        return 'senior'\n",
    "    elif 'jr' in title.lower() or 'jr.' in title.lower():\n",
    "        return 'jr'\n",
    "    else:\n",
    "        return 'na'\n"
   ]
  },
  {
   "cell_type": "code",
   "execution_count": 6,
   "id": "fa8b6f34",
   "metadata": {
    "ExecuteTime": {
     "end_time": "2021-08-31T16:06:30.011587Z",
     "start_time": "2021-08-31T16:06:29.988582Z"
    }
   },
   "outputs": [
    {
     "data": {
      "text/plain": [
       "(data scientist    398\n",
       " na                184\n",
       " analyst           102\n",
       " manager            22\n",
       " mle                22\n",
       " director           14\n",
       " Name: job_simplfier, dtype: int64,\n",
       " na        545\n",
       " senior    195\n",
       " jr          2\n",
       " Name: seniority, dtype: int64)"
      ]
     },
     "execution_count": 6,
     "metadata": {},
     "output_type": "execute_result"
    }
   ],
   "source": [
    "data['job_simplfier'] = data['Job Title'].apply(title_simplifier)\n",
    "data['seniority'] = data['Job Title'].apply(seniority)\n",
    "\n",
    "data.job_simplfier.value_counts(),data.seniority.value_counts()"
   ]
  },
  {
   "cell_type": "code",
   "execution_count": 7,
   "id": "496d1abf",
   "metadata": {
    "ExecuteTime": {
     "end_time": "2021-08-31T16:06:30.692093Z",
     "start_time": "2021-08-31T16:06:30.676094Z"
    },
    "scrolled": true
   },
   "outputs": [
    {
     "data": {
      "text/plain": [
       "CA    152\n",
       "MA    103\n",
       "NY     72\n",
       "VA     41\n",
       "IL     40\n",
       "MD     35\n",
       "PA     33\n",
       "TX     28\n",
       "NC     21\n",
       "WA     21\n",
       "NJ     17\n",
       "FL     16\n",
       "OH     14\n",
       "TN     13\n",
       "DC     11\n",
       "CO     11\n",
       "WI     10\n",
       "UT     10\n",
       "IN     10\n",
       "AZ      9\n",
       "MO      9\n",
       "AL      8\n",
       "GA      6\n",
       "DE      6\n",
       "KY      6\n",
       "MI      6\n",
       "CT      5\n",
       "IA      5\n",
       "LA      4\n",
       "OR      4\n",
       "NE      4\n",
       "NM      3\n",
       "KS      3\n",
       "ID      2\n",
       "MN      2\n",
       "RI      1\n",
       "SC      1\n",
       "Name: job_state, dtype: int64"
      ]
     },
     "execution_count": 7,
     "metadata": {},
     "output_type": "execute_result"
    }
   ],
   "source": [
    "data['job_state'] = data.job_state.apply(lambda x: x.strip() \n",
    "                                         if x.strip().lower() != 'los angeles' else 'CA')\n",
    "\n",
    "data.job_state.value_counts()"
   ]
  },
  {
   "cell_type": "code",
   "execution_count": 8,
   "id": "506a6e3b",
   "metadata": {
    "ExecuteTime": {
     "end_time": "2021-08-31T16:06:33.095410Z",
     "start_time": "2021-08-31T16:06:33.087496Z"
    }
   },
   "outputs": [],
   "source": [
    "# Job description length\n",
    "data['desc_len'] = data['Job Description'].apply(lambda x: len(x))"
   ]
  },
  {
   "cell_type": "code",
   "execution_count": 9,
   "id": "77915d71",
   "metadata": {
    "ExecuteTime": {
     "end_time": "2021-08-31T16:06:33.458447Z",
     "start_time": "2021-08-31T16:06:33.441433Z"
    }
   },
   "outputs": [],
   "source": [
    "# Competitors count\n",
    "data['num_comp'] = data['Competitors'].apply(lambda x: len(x.split(',')) if x != '-1' else 0)"
   ]
  },
  {
   "cell_type": "code",
   "execution_count": 10,
   "id": "e744f5d2",
   "metadata": {
    "ExecuteTime": {
     "end_time": "2021-08-31T16:06:34.175314Z",
     "start_time": "2021-08-31T16:06:34.167320Z"
    }
   },
   "outputs": [
    {
     "data": {
      "text/plain": [
       "0      0\n",
       "1      0\n",
       "2      0\n",
       "3      3\n",
       "4      3\n",
       "      ..\n",
       "737    3\n",
       "738    3\n",
       "739    0\n",
       "740    0\n",
       "741    0\n",
       "Name: num_comp, Length: 742, dtype: int64"
      ]
     },
     "execution_count": 10,
     "metadata": {},
     "output_type": "execute_result"
    }
   ],
   "source": [
    "data.num_comp"
   ]
  },
  {
   "cell_type": "code",
   "execution_count": null,
   "id": "e4f534bf",
   "metadata": {},
   "outputs": [],
   "source": []
  }
 ],
 "metadata": {
  "kernelspec": {
   "display_name": "Python 3",
   "language": "python",
   "name": "python3"
  },
  "toc": {
   "base_numbering": 1,
   "nav_menu": {},
   "number_sections": true,
   "sideBar": true,
   "skip_h1_title": false,
   "title_cell": "Table of Contents",
   "title_sidebar": "Contents",
   "toc_cell": false,
   "toc_position": {},
   "toc_section_display": true,
   "toc_window_display": false
  }
 },
 "nbformat": 4,
 "nbformat_minor": 5
}
