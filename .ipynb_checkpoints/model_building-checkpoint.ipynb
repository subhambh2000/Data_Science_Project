{
 "cells": [
  {
   "cell_type": "code",
   "execution_count": 4,
   "id": "b942e66f",
   "metadata": {
    "ExecuteTime": {
     "end_time": "2021-09-02T09:26:18.026795Z",
     "start_time": "2021-09-02T09:26:18.013789Z"
    }
   },
   "outputs": [],
   "source": [
    "# Import Statements\n",
    "import pandas as pd\n",
    "import numpy as np\n",
    "import matplotlib.pyplot as plt\n",
    "import seaborn as sns\n",
    "%matplotlib inline \n",
    "pd.set_option('display.max_rows', None, 'display.max_columns', None)\n",
    "\n",
    "import warnings\n",
    "warnings.filterwarnings(action = 'ignore')"
   ]
  },
  {
   "cell_type": "code",
   "execution_count": 5,
   "id": "caced1ad",
   "metadata": {
    "ExecuteTime": {
     "end_time": "2021-09-02T09:32:19.693282Z",
     "start_time": "2021-09-02T09:32:19.636409Z"
    }
   },
   "outputs": [],
   "source": [
    "data = pd.read_csv(\"eda_data.csv\")"
   ]
  },
  {
   "cell_type": "code",
   "execution_count": null,
   "id": "bda84854",
   "metadata": {},
   "outputs": [],
   "source": [
    "# Choose relevant columns\n"
   ]
  }
 ],
 "metadata": {
  "kernelspec": {
   "display_name": "Python 3",
   "language": "python",
   "name": "python3"
  },
  "language_info": {
   "codemirror_mode": {
    "name": "ipython",
    "version": 3
   },
   "file_extension": ".py",
   "mimetype": "text/x-python",
   "name": "python",
   "nbconvert_exporter": "python",
   "pygments_lexer": "ipython3",
   "version": "3.7.11"
  },
  "toc": {
   "base_numbering": 1,
   "nav_menu": {},
   "number_sections": true,
   "sideBar": true,
   "skip_h1_title": false,
   "title_cell": "Table of Contents",
   "title_sidebar": "Contents",
   "toc_cell": false,
   "toc_position": {},
   "toc_section_display": true,
   "toc_window_display": false
  }
 },
 "nbformat": 4,
 "nbformat_minor": 5
}
